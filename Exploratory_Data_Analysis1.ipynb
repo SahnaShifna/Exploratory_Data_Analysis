{
 "cells": [
  {
   "cell_type": "markdown",
   "metadata": {},
   "source": [
    "## Description"
   ]
  },
  {
   "cell_type": "markdown",
   "metadata": {},
   "source": [
    "The dataset comprises anonymized data on online sales transactions, capturing various aspects of product purchases, customer details, and order characteristics.This dataset can be utilized for analyzing sales trends, customer purchase behavior, and order management in e-commerce or retail.It can help in evaluating the effects of discounts and payment methods on sales, optimizing inventory by studying product demand, and improving customer satisfaction through better shipping and return handling."
   ]
  },
  {
   "cell_type": "markdown",
   "metadata": {},
   "source": [
    "Import Data Libraries\n",
    "\n"
   ]
  },
  {
   "cell_type": "code",
   "execution_count": 2,
   "metadata": {},
   "outputs": [],
   "source": [
    "import pandas as pd\n",
    "import numpy as np\n",
    "import seaborn as sns\n",
    "import matplotlib.pyplot as plt\n"
   ]
  },
  {
   "cell_type": "markdown",
   "metadata": {},
   "source": [
    "loading data from csv file\n",
    "loaded first 10 rows using head function and last 10 rows using tail function."
   ]
  },
  {
   "cell_type": "code",
   "execution_count": 3,
   "metadata": {},
   "outputs": [
    {
     "name": "stdout",
     "output_type": "stream",
     "text": [
      "       InvoiceNo StockCode   Description  Quantity  InvoiceDate  UnitPrice  \\\n",
      "0         221958  SKU_1964     White Mug        38     01-01-20       1.71   \n",
      "1         771155  SKU_1241     White Mug        18  1/1/20 1:00      41.25   \n",
      "2         231932  SKU_1501    Headphones        49  1/1/20 2:00      29.11   \n",
      "3         465838  SKU_1760     Desk Lamp        14  1/1/20 3:00      76.68   \n",
      "4         359178  SKU_1386     USB Cable       -30  1/1/20 4:00     -68.11   \n",
      "...          ...       ...           ...       ...          ...        ...   \n",
      "49777     354083  SKU_1562      Blue Pen        25  9/5/25 1:00      70.92   \n",
      "49778     296698  SKU_1930     USB Cable         7  9/5/25 2:00      51.74   \n",
      "49779     177622  SKU_1766  Office Chair        43  9/5/25 3:00      85.25   \n",
      "49780     701213  SKU_1602      Notebook        48  9/5/25 4:00      39.64   \n",
      "49781     772215  SKU_1832     White Mug        30  9/5/25 5:00      38.27   \n",
      "\n",
      "       CustomerID         Country  Discount  PaymentMethod  ShippingCost  \\\n",
      "0         37039.0       Australia  0.470000  Bank Transfer         10.79   \n",
      "1         19144.0           Spain  0.190000        paypall          9.51   \n",
      "2         50472.0         Germany  0.350000  Bank Transfer         23.03   \n",
      "3         96586.0     Netherlands  0.140000        paypall         11.08   \n",
      "4             NaN  United Kingdom  1.501433  Bank Transfer           NaN   \n",
      "...           ...             ...       ...            ...           ...   \n",
      "49777     51445.0           Spain  0.200000    Credit Card          8.96   \n",
      "49778     28879.0   United States  0.230000  Bank Transfer         23.55   \n",
      "49779     21825.0        Portugal  0.200000  Bank Transfer         16.26   \n",
      "49780     43199.0  United Kingdom  0.310000        paypall         28.56   \n",
      "49781     53328.0          France  0.100000    Credit Card          9.13   \n",
      "\n",
      "          Category SalesChannel  ReturnStatus ShipmentProvider  \\\n",
      "0          Apparel     In-store  Not Returned              UPS   \n",
      "1      Electronics       Online  Not Returned              UPS   \n",
      "2      Electronics       Online      Returned              UPS   \n",
      "3      Accessories       Online  Not Returned       Royal Mail   \n",
      "4      Electronics     In-store  Not Returned            FedEx   \n",
      "...            ...          ...           ...              ...   \n",
      "49777  Electronics       Online      Returned              UPS   \n",
      "49778  Electronics       Online  Not Returned            FedEx   \n",
      "49779    Furniture     In-store  Not Returned            FedEx   \n",
      "49780      Apparel       Online  Not Returned       Royal Mail   \n",
      "49781   Stationery       Online  Not Returned              UPS   \n",
      "\n",
      "      WarehouseLocation OrderPriority  \n",
      "0                London        Medium  \n",
      "1                  Rome        Medium  \n",
      "2                Berlin          High  \n",
      "3                  Rome           Low  \n",
      "4                   NaN        Medium  \n",
      "...                 ...           ...  \n",
      "49777            Berlin        Medium  \n",
      "49778         Amsterdam           Low  \n",
      "49779            London          High  \n",
      "49780            London        Medium  \n",
      "49781              Rome           Low  \n",
      "\n",
      "[49782 rows x 17 columns]\n",
      "   InvoiceNo StockCode     Description  Quantity  InvoiceDate  UnitPrice  \\\n",
      "0     221958  SKU_1964       White Mug        38     01-01-20       1.71   \n",
      "1     771155  SKU_1241       White Mug        18  1/1/20 1:00      41.25   \n",
      "2     231932  SKU_1501      Headphones        49  1/1/20 2:00      29.11   \n",
      "3     465838  SKU_1760       Desk Lamp        14  1/1/20 3:00      76.68   \n",
      "4     359178  SKU_1386       USB Cable       -30  1/1/20 4:00     -68.11   \n",
      "5     744167  SKU_1006    Office Chair        47  1/1/20 5:00      70.16   \n",
      "6     210268  SKU_1087       USB Cable        25  1/1/20 6:00      85.74   \n",
      "7     832180  SKU_1597        Notebook         8  1/1/20 7:00      95.65   \n",
      "8     154886  SKU_1907  Wireless Mouse        19  1/1/20 8:00      98.19   \n",
      "9     237337  SKU_1866      Headphones        40  1/1/20 9:00      98.17   \n",
      "\n",
      "   CustomerID         Country  Discount  PaymentMethod  ShippingCost  \\\n",
      "0     37039.0       Australia  0.470000  Bank Transfer         10.79   \n",
      "1     19144.0           Spain  0.190000        paypall          9.51   \n",
      "2     50472.0         Germany  0.350000  Bank Transfer         23.03   \n",
      "3     96586.0     Netherlands  0.140000        paypall         11.08   \n",
      "4         NaN  United Kingdom  1.501433  Bank Transfer           NaN   \n",
      "5     53887.0          Sweden  0.480000    Credit Card         13.98   \n",
      "6     46567.0         Belgium  0.150000  Bank Transfer         12.92   \n",
      "7     75098.0          Norway  0.040000  Bank Transfer          6.48   \n",
      "8     87950.0         Belgium  0.050000        paypall         12.56   \n",
      "9     39718.0           Italy  0.160000  Bank Transfer          7.71   \n",
      "\n",
      "      Category SalesChannel  ReturnStatus ShipmentProvider WarehouseLocation  \\\n",
      "0      Apparel     In-store  Not Returned              UPS            London   \n",
      "1  Electronics       Online  Not Returned              UPS              Rome   \n",
      "2  Electronics       Online      Returned              UPS            Berlin   \n",
      "3  Accessories       Online  Not Returned       Royal Mail              Rome   \n",
      "4  Electronics     In-store  Not Returned            FedEx               NaN   \n",
      "5  Electronics       Online  Not Returned              DHL            London   \n",
      "6   Stationery       Online  Not Returned            FedEx         Amsterdam   \n",
      "7  Electronics     In-store  Not Returned       Royal Mail         Amsterdam   \n",
      "8      Apparel       Online  Not Returned              UPS            Berlin   \n",
      "9      Apparel       Online  Not Returned       Royal Mail            London   \n",
      "\n",
      "  OrderPriority  \n",
      "0        Medium  \n",
      "1        Medium  \n",
      "2          High  \n",
      "3           Low  \n",
      "4        Medium  \n",
      "5        Medium  \n",
      "6          High  \n",
      "7           Low  \n",
      "8          High  \n",
      "9           Low  \n",
      "       InvoiceNo StockCode   Description  Quantity   InvoiceDate  UnitPrice  \\\n",
      "49772     224131  SKU_1095     USB Cable        27  9/4/25 20:00      30.87   \n",
      "49773     370260  SKU_1570      Blue Pen        12  9/4/25 21:00      51.83   \n",
      "49774     274759  SKU_1899     USB Cable        43  9/4/25 22:00      12.63   \n",
      "49775     405597  SKU_1140      Backpack        37  9/4/25 23:00      66.64   \n",
      "49776     524453  SKU_1316  Office Chair        43      09-05-25      84.19   \n",
      "49777     354083  SKU_1562      Blue Pen        25   9/5/25 1:00      70.92   \n",
      "49778     296698  SKU_1930     USB Cable         7   9/5/25 2:00      51.74   \n",
      "49779     177622  SKU_1766  Office Chair        43   9/5/25 3:00      85.25   \n",
      "49780     701213  SKU_1602      Notebook        48   9/5/25 4:00      39.64   \n",
      "49781     772215  SKU_1832     White Mug        30   9/5/25 5:00      38.27   \n",
      "\n",
      "       CustomerID         Country  Discount  PaymentMethod  ShippingCost  \\\n",
      "49772     63980.0           Italy      0.38    Credit Card         14.48   \n",
      "49773     85250.0           Italy      0.32    Credit Card         22.44   \n",
      "49774     14206.0          Sweden      0.11        paypall         27.75   \n",
      "49775     12024.0           Italy      0.35        paypall         19.93   \n",
      "49776     84399.0  United Kingdom      0.25    Credit Card         21.38   \n",
      "49777     51445.0           Spain      0.20    Credit Card          8.96   \n",
      "49778     28879.0   United States      0.23  Bank Transfer         23.55   \n",
      "49779     21825.0        Portugal      0.20  Bank Transfer         16.26   \n",
      "49780     43199.0  United Kingdom      0.31        paypall         28.56   \n",
      "49781     53328.0          France      0.10    Credit Card          9.13   \n",
      "\n",
      "          Category SalesChannel  ReturnStatus ShipmentProvider  \\\n",
      "49772      Apparel     In-store  Not Returned              UPS   \n",
      "49773  Accessories     In-store  Not Returned       Royal Mail   \n",
      "49774  Electronics       Online  Not Returned              DHL   \n",
      "49775      Apparel       Online      Returned              UPS   \n",
      "49776  Electronics       Online  Not Returned              DHL   \n",
      "49777  Electronics       Online      Returned              UPS   \n",
      "49778  Electronics       Online  Not Returned            FedEx   \n",
      "49779    Furniture     In-store  Not Returned            FedEx   \n",
      "49780      Apparel       Online  Not Returned       Royal Mail   \n",
      "49781   Stationery       Online  Not Returned              UPS   \n",
      "\n",
      "      WarehouseLocation OrderPriority  \n",
      "49772         Amsterdam          High  \n",
      "49773              Rome        Medium  \n",
      "49774         Amsterdam          High  \n",
      "49775              Rome           Low  \n",
      "49776         Amsterdam           Low  \n",
      "49777            Berlin        Medium  \n",
      "49778         Amsterdam           Low  \n",
      "49779            London          High  \n",
      "49780            London        Medium  \n",
      "49781              Rome           Low  \n"
     ]
    }
   ],
   "source": [
    "\n",
    "df=pd.read_csv(\"c:\\Data Science\\Project\\online_sales_dataset.csv\")\n",
    "print(df)\n",
    "print(df.head(10))\n",
    "print(df.tail(10))"
   ]
  },
  {
   "cell_type": "markdown",
   "metadata": {},
   "source": [
    "Getting data information"
   ]
  },
  {
   "cell_type": "code",
   "execution_count": 4,
   "metadata": {},
   "outputs": [
    {
     "name": "stdout",
     "output_type": "stream",
     "text": [
      "<class 'pandas.core.frame.DataFrame'>\n",
      "RangeIndex: 49782 entries, 0 to 49781\n",
      "Data columns (total 17 columns):\n",
      " #   Column             Non-Null Count  Dtype  \n",
      "---  ------             --------------  -----  \n",
      " 0   InvoiceNo          49782 non-null  int64  \n",
      " 1   StockCode          49782 non-null  object \n",
      " 2   Description        49782 non-null  object \n",
      " 3   Quantity           49782 non-null  int64  \n",
      " 4   InvoiceDate        49782 non-null  object \n",
      " 5   UnitPrice          49782 non-null  float64\n",
      " 6   CustomerID         44804 non-null  float64\n",
      " 7   Country            49782 non-null  object \n",
      " 8   Discount           49782 non-null  float64\n",
      " 9   PaymentMethod      49782 non-null  object \n",
      " 10  ShippingCost       47293 non-null  float64\n",
      " 11  Category           49782 non-null  object \n",
      " 12  SalesChannel       49782 non-null  object \n",
      " 13  ReturnStatus       49782 non-null  object \n",
      " 14  ShipmentProvider   49782 non-null  object \n",
      " 15  WarehouseLocation  46297 non-null  object \n",
      " 16  OrderPriority      49782 non-null  object \n",
      "dtypes: float64(4), int64(2), object(11)\n",
      "memory usage: 6.5+ MB\n",
      "None\n"
     ]
    }
   ],
   "source": [
    "\n",
    "print(df.info())"
   ]
  },
  {
   "cell_type": "markdown",
   "metadata": {},
   "source": [
    "checking how much null values are there in data set"
   ]
  },
  {
   "cell_type": "code",
   "execution_count": 5,
   "metadata": {},
   "outputs": [
    {
     "name": "stdout",
     "output_type": "stream",
     "text": [
      "InvoiceNo               0\n",
      "StockCode               0\n",
      "Description             0\n",
      "Quantity                0\n",
      "InvoiceDate             0\n",
      "UnitPrice               0\n",
      "CustomerID           4978\n",
      "Country                 0\n",
      "Discount                0\n",
      "PaymentMethod           0\n",
      "ShippingCost         2489\n",
      "Category                0\n",
      "SalesChannel            0\n",
      "ReturnStatus            0\n",
      "ShipmentProvider        0\n",
      "WarehouseLocation    3485\n",
      "OrderPriority           0\n",
      "dtype: int64\n",
      "10952\n"
     ]
    }
   ],
   "source": [
    "print(df.isna().sum())\n",
    "print(df.isna().sum().sum())"
   ]
  },
  {
   "cell_type": "markdown",
   "metadata": {},
   "source": [
    "removing empty cells using dropna() function.For cchanging the original dataframe using the argurment invoice = true."
   ]
  },
  {
   "cell_type": "code",
   "execution_count": 6,
   "metadata": {},
   "outputs": [
    {
     "name": "stdout",
     "output_type": "stream",
     "text": [
      "    InvoiceNo StockCode     Description  Quantity   InvoiceDate  UnitPrice  \\\n",
      "0      221958  SKU_1964       White Mug        38      01-01-20       1.71   \n",
      "1      771155  SKU_1241       White Mug        18   1/1/20 1:00      41.25   \n",
      "2      231932  SKU_1501      Headphones        49   1/1/20 2:00      29.11   \n",
      "3      465838  SKU_1760       Desk Lamp        14   1/1/20 3:00      76.68   \n",
      "5      744167  SKU_1006    Office Chair        47   1/1/20 5:00      70.16   \n",
      "6      210268  SKU_1087       USB Cable        25   1/1/20 6:00      85.74   \n",
      "7      832180  SKU_1597        Notebook         8   1/1/20 7:00      95.65   \n",
      "8      154886  SKU_1907  Wireless Mouse        19   1/1/20 8:00      98.19   \n",
      "9      237337  SKU_1866      Headphones        40   1/1/20 9:00      98.17   \n",
      "10     621430  SKU_1144        Notebook        49  1/1/20 10:00      87.56   \n",
      "\n",
      "    CustomerID         Country  Discount  PaymentMethod  ShippingCost  \\\n",
      "0      37039.0       Australia      0.47  Bank Transfer         10.79   \n",
      "1      19144.0           Spain      0.19        paypall          9.51   \n",
      "2      50472.0         Germany      0.35  Bank Transfer         23.03   \n",
      "3      96586.0     Netherlands      0.14        paypall         11.08   \n",
      "5      53887.0          Sweden      0.48    Credit Card         13.98   \n",
      "6      46567.0         Belgium      0.15  Bank Transfer         12.92   \n",
      "7      75098.0          Norway      0.04  Bank Transfer          6.48   \n",
      "8      87950.0         Belgium      0.05        paypall         12.56   \n",
      "9      39718.0           Italy      0.16  Bank Transfer          7.71   \n",
      "10     13030.0  United Kingdom      0.19        paypall          9.83   \n",
      "\n",
      "       Category SalesChannel  ReturnStatus ShipmentProvider WarehouseLocation  \\\n",
      "0       Apparel     In-store  Not Returned              UPS            London   \n",
      "1   Electronics       Online  Not Returned              UPS              Rome   \n",
      "2   Electronics       Online      Returned              UPS            Berlin   \n",
      "3   Accessories       Online  Not Returned       Royal Mail              Rome   \n",
      "5   Electronics       Online  Not Returned              DHL            London   \n",
      "6    Stationery       Online  Not Returned            FedEx         Amsterdam   \n",
      "7   Electronics     In-store  Not Returned       Royal Mail         Amsterdam   \n",
      "8       Apparel       Online  Not Returned              UPS            Berlin   \n",
      "9       Apparel       Online  Not Returned       Royal Mail            London   \n",
      "10   Stationery     In-store      Returned              UPS             Paris   \n",
      "\n",
      "   OrderPriority  \n",
      "0         Medium  \n",
      "1         Medium  \n",
      "2           High  \n",
      "3            Low  \n",
      "5         Medium  \n",
      "6           High  \n",
      "7            Low  \n",
      "8           High  \n",
      "9            Low  \n",
      "10        Medium  \n"
     ]
    }
   ],
   "source": [
    "df.dropna(inplace=True)\n",
    "print(df.head(10))"
   ]
  },
  {
   "cell_type": "markdown",
   "metadata": {},
   "source": [
    "find duplicates in dataset"
   ]
  },
  {
   "cell_type": "code",
   "execution_count": 7,
   "metadata": {},
   "outputs": [
    {
     "name": "stdout",
     "output_type": "stream",
     "text": [
      "0\n"
     ]
    }
   ],
   "source": [
    "print(df.duplicated().sum())"
   ]
  },
  {
   "cell_type": "markdown",
   "metadata": {},
   "source": [
    "removing duplicates using drop_duplicates() method"
   ]
  },
  {
   "cell_type": "code",
   "execution_count": 16,
   "metadata": {},
   "outputs": [
    {
     "name": "stdout",
     "output_type": "stream",
     "text": [
      "    InvoiceNo     Description  Quantity         InvoiceDate  UnitPrice  \\\n",
      "0      221958       White Mug        38 2020-01-01 00:00:00       1.71   \n",
      "1      771155       White Mug        18 2020-01-01 01:00:00      41.25   \n",
      "2      231932      Headphones        49 2020-01-01 02:00:00      29.11   \n",
      "3      465838       Desk Lamp        14 2020-01-01 03:00:00      76.68   \n",
      "5      744167    Office Chair        47 2020-01-01 05:00:00      70.16   \n",
      "6      210268       USB Cable        25 2020-01-01 06:00:00      85.74   \n",
      "7      832180        Notebook         8 2020-01-01 07:00:00      95.65   \n",
      "8      154886  Wireless Mouse        19 2020-01-01 08:00:00      98.19   \n",
      "9      237337      Headphones        40 2020-01-01 09:00:00      98.17   \n",
      "10     621430        Notebook        49 2020-01-01 10:00:00      87.56   \n",
      "\n",
      "    CustomerID         Country  Discount  PaymentMethod  ShippingCost  \\\n",
      "0      37039.0       Australia      0.47  Bank Transfer         10.79   \n",
      "1      19144.0           Spain      0.19        paypall          9.51   \n",
      "2      50472.0         Germany      0.35  Bank Transfer         23.03   \n",
      "3      96586.0     Netherlands      0.14        paypall         11.08   \n",
      "5      53887.0          Sweden      0.48    Credit Card         13.98   \n",
      "6      46567.0         Belgium      0.15  Bank Transfer         12.92   \n",
      "7      75098.0          Norway      0.04  Bank Transfer          6.48   \n",
      "8      87950.0         Belgium      0.05        paypall         12.56   \n",
      "9      39718.0           Italy      0.16  Bank Transfer          7.71   \n",
      "10     13030.0  United Kingdom      0.19        paypall          9.83   \n",
      "\n",
      "       Category SalesChannel  ReturnStatus ShipmentProvider WarehouseLocation  \\\n",
      "0       Apparel     In-store  Not Returned              UPS            London   \n",
      "1   Electronics       Online  Not Returned              UPS              Rome   \n",
      "2   Electronics       Online      Returned              UPS            Berlin   \n",
      "3   Accessories       Online  Not Returned       Royal Mail              Rome   \n",
      "5   Electronics       Online  Not Returned              DHL            London   \n",
      "6    Stationery       Online  Not Returned            FedEx         Amsterdam   \n",
      "7   Electronics     In-store  Not Returned       Royal Mail         Amsterdam   \n",
      "8       Apparel       Online  Not Returned              UPS            Berlin   \n",
      "9       Apparel       Online  Not Returned       Royal Mail            London   \n",
      "10   Stationery     In-store      Returned              UPS             Paris   \n",
      "\n",
      "   OrderPriority  \n",
      "0         Medium  \n",
      "1         Medium  \n",
      "2           High  \n",
      "3            Low  \n",
      "5         Medium  \n",
      "6           High  \n",
      "7            Low  \n",
      "8           High  \n",
      "9            Low  \n",
      "10        Medium  \n"
     ]
    }
   ],
   "source": [
    "df.drop_duplicates(inplace=True)\n",
    "print(df.head(10))"
   ]
  },
  {
   "cell_type": "markdown",
   "metadata": {},
   "source": [
    "removing unwanted column"
   ]
  },
  {
   "cell_type": "code",
   "execution_count": 9,
   "metadata": {},
   "outputs": [
    {
     "name": "stdout",
     "output_type": "stream",
     "text": [
      "<class 'pandas.core.frame.DataFrame'>\n",
      "Index: 44804 entries, 0 to 49781\n",
      "Data columns (total 16 columns):\n",
      " #   Column             Non-Null Count  Dtype  \n",
      "---  ------             --------------  -----  \n",
      " 0   InvoiceNo          44804 non-null  int64  \n",
      " 1   Description        44804 non-null  object \n",
      " 2   Quantity           44804 non-null  int64  \n",
      " 3   InvoiceDate        44804 non-null  object \n",
      " 4   UnitPrice          44804 non-null  float64\n",
      " 5   CustomerID         44804 non-null  float64\n",
      " 6   Country            44804 non-null  object \n",
      " 7   Discount           44804 non-null  float64\n",
      " 8   PaymentMethod      44804 non-null  object \n",
      " 9   ShippingCost       44804 non-null  float64\n",
      " 10  Category           44804 non-null  object \n",
      " 11  SalesChannel       44804 non-null  object \n",
      " 12  ReturnStatus       44804 non-null  object \n",
      " 13  ShipmentProvider   44804 non-null  object \n",
      " 14  WarehouseLocation  44804 non-null  object \n",
      " 15  OrderPriority      44804 non-null  object \n",
      "dtypes: float64(4), int64(2), object(10)\n",
      "memory usage: 5.8+ MB\n",
      "None\n"
     ]
    }
   ],
   "source": [
    "del df['StockCode']\n",
    "print(df.info())"
   ]
  },
  {
   "cell_type": "markdown",
   "metadata": {},
   "source": [
    "finding outlayers using boxplot in seaborn"
   ]
  },
  {
   "cell_type": "code",
   "execution_count": 10,
   "metadata": {},
   "outputs": [
    {
     "data": {
      "image/png": "[encoded data removed]",
      "text/plain": [
       "<Figure size 640x480 with 1 Axes>"
      ]
     },
     "metadata": {},
     "output_type": "display_data"
    }
   ],
   "source": [
    "sns.boxplot(data=df)\n",
    "plt.show()"
   ]
  },
  {
   "cell_type": "markdown",
   "metadata": {},
   "source": [
    "changing some data types of columns from object to string"
   ]
  },
  {
   "cell_type": "code",
   "execution_count": 11,
   "metadata": {},
   "outputs": [
    {
     "name": "stdout",
     "output_type": "stream",
     "text": [
      "<class 'pandas.core.frame.DataFrame'>\n",
      "Index: 44804 entries, 0 to 49781\n",
      "Data columns (total 16 columns):\n",
      " #   Column             Non-Null Count  Dtype        \n",
      "---  ------             --------------  -----        \n",
      " 0   InvoiceNo          44804 non-null  int64        \n",
      " 1   Description        44804 non-null  string       \n",
      " 2   Quantity           44804 non-null  int64        \n",
      " 3   InvoiceDate        44804 non-null  datetime64[s]\n",
      " 4   UnitPrice          44804 non-null  float64      \n",
      " 5   CustomerID         44804 non-null  float64      \n",
      " 6   Country            44804 non-null  string       \n",
      " 7   Discount           44804 non-null  float64      \n",
      " 8   PaymentMethod      44804 non-null  string       \n",
      " 9   ShippingCost       44804 non-null  float64      \n",
      " 10  Category           44804 non-null  string       \n",
      " 11  SalesChannel       44804 non-null  string       \n",
      " 12  ReturnStatus       44804 non-null  string       \n",
      " 13  ShipmentProvider   44804 non-null  string       \n",
      " 14  WarehouseLocation  44804 non-null  string       \n",
      " 15  OrderPriority      44804 non-null  string       \n",
      "dtypes: datetime64[s](1), float64(4), int64(2), string(9)\n",
      "memory usage: 5.8 MB\n",
      "None\n"
     ]
    }
   ],
   "source": [
    "df['Description']=df['Description'].astype('string')\n",
    "df['InvoiceDate']=df['InvoiceDate'].astype('datetime64[s]')\n",
    "df['Country']=df['Country'].astype('string')\n",
    "df['PaymentMethod']=df['PaymentMethod'].astype('string')\n",
    "df['Category']=df['Category'].astype('string')\n",
    "df['SalesChannel']=df['SalesChannel'].astype('string')\n",
    "df['ReturnStatus']=df['ReturnStatus'].astype('string')\n",
    "df['ShipmentProvider']=df['ShipmentProvider'].astype('string')\n",
    "df['WarehouseLocation']=df['WarehouseLocation'].astype('string')\n",
    "df['OrderPriority']=df['OrderPriority'].astype('string')\n",
    "print(df.info())"
   ]
  },
  {
   "cell_type": "markdown",
   "metadata": {},
   "source": [
    "## STATISTICAL ANALYSIS"
   ]
  },
  {
   "cell_type": "markdown",
   "metadata": {},
   "source": [
    "Finding correlation of numeric values using "
   ]
  },
  {
   "cell_type": "code",
   "execution_count": 12,
   "metadata": {},
   "outputs": [
    {
     "name": "stdout",
     "output_type": "stream",
     "text": [
      "              InvoiceNo  Quantity  UnitPrice  CustomerID  Discount  \\\n",
      "InvoiceNo      1.000000  0.007537  -0.013234    0.000730 -0.000147   \n",
      "Quantity       0.007537  1.000000  -0.003724    0.002889 -0.000625   \n",
      "UnitPrice     -0.013234 -0.003724   1.000000    0.000065 -0.005517   \n",
      "CustomerID     0.000730  0.002889   0.000065    1.000000  0.010822   \n",
      "Discount      -0.000147 -0.000625  -0.005517    0.010822  1.000000   \n",
      "ShippingCost   0.001501 -0.004307   0.004842    0.004071 -0.003891   \n",
      "\n",
      "              ShippingCost  \n",
      "InvoiceNo         0.001501  \n",
      "Quantity         -0.004307  \n",
      "UnitPrice         0.004842  \n",
      "CustomerID        0.004071  \n",
      "Discount         -0.003891  \n",
      "ShippingCost      1.000000  \n"
     ]
    }
   ],
   "source": [
    "print(df.corr(numeric_only=True))"
   ]
  },
  {
   "cell_type": "markdown",
   "metadata": {},
   "source": [
    "finding co variance"
   ]
  },
  {
   "cell_type": "code",
   "execution_count": 13,
   "metadata": {},
   "outputs": [
    {
     "name": "stdout",
     "output_type": "stream",
     "text": [
      "                 InvoiceNo      Quantity     UnitPrice    CustomerID  \\\n",
      "InvoiceNo     6.795460e+10  27799.523326 -98657.038182  4.933277e+06   \n",
      "Quantity      2.779952e+04    200.222673     -1.506716  1.059163e+03   \n",
      "UnitPrice    -9.865704e+04     -1.506716    817.782745  4.801933e+01   \n",
      "CustomerID    4.933277e+06   1059.163474     48.019327  6.715178e+08   \n",
      "Discount     -5.541059e+00     -0.001277     -0.022775  4.047946e+01   \n",
      "ShippingCost  2.825372e+03     -0.439898      0.999489  7.615951e+02   \n",
      "\n",
      "               Discount  ShippingCost  \n",
      "InvoiceNo     -5.541059   2825.372209  \n",
      "Quantity      -0.001277     -0.439898  \n",
      "UnitPrice     -0.022775      0.999489  \n",
      "CustomerID    40.479455    761.595086  \n",
      "Discount       0.020837     -0.004054  \n",
      "ShippingCost  -0.004054     52.106503  \n"
     ]
    }
   ],
   "source": [
    "print(df.cov(numeric_only=True))"
   ]
  },
  {
   "cell_type": "markdown",
   "metadata": {},
   "source": [
    "getting a statistical summary of NUMERICAL VALUES in data set"
   ]
  },
  {
   "cell_type": "code",
   "execution_count": 14,
   "metadata": {},
   "outputs": [
    {
     "name": "stdout",
     "output_type": "stream",
     "text": [
      "           InvoiceNo      Quantity          InvoiceDate     UnitPrice  \\\n",
      "count   44804.000000  44804.000000                44804  44804.000000   \n",
      "mean   549849.692282     24.896973  2022-11-01 02:33:43     50.622735   \n",
      "min    100005.000000      1.000000  2020-01-01 00:00:00      1.000000   \n",
      "25%    323744.750000     13.000000  2021-05-31 00:45:00     25.880000   \n",
      "50%    551099.500000     25.000000  2022-10-30 10:30:00     50.490000   \n",
      "75%    775251.750000     37.000000  2024-04-03 15:15:00     75.400000   \n",
      "max    999997.000000     49.000000  2025-09-05 05:00:00    100.000000   \n",
      "std    260681.031778     14.150006                  NaN     28.596901   \n",
      "\n",
      "         CustomerID      Discount  ShippingCost  \n",
      "count  44804.000000  44804.000000  44804.000000  \n",
      "mean   55032.871775      0.250474     17.484206  \n",
      "min    10001.000000      0.000000      5.000000  \n",
      "25%    32750.750000      0.130000     11.210000  \n",
      "50%    55165.000000      0.250000     17.470000  \n",
      "75%    77306.250000      0.380000     23.710000  \n",
      "max    99998.000000      0.500000     30.000000  \n",
      "std    25913.660157      0.144349      7.218483  \n"
     ]
    }
   ],
   "source": [
    "print(df.describe())"
   ]
  },
  {
   "cell_type": "markdown",
   "metadata": {},
   "source": [
    "##           Exploratory Data Analysis"
   ]
  },
  {
   "cell_type": "markdown",
   "metadata": {},
   "source": [
    "1.Name the countries that bought usb cable?"
   ]
  },
  {
   "cell_type": "code",
   "execution_count": 17,
   "metadata": {},
   "outputs": [
    {
     "name": "stdout",
     "output_type": "stream",
     "text": [
      "Countries that bought USB Cable: <StringArray>\n",
      "[     'Australia',          'Spain',        'Germany',    'Netherlands',\n",
      "         'Sweden',        'Belgium',         'Norway',          'Italy',\n",
      " 'United Kingdom',       'Portugal',         'France',  'United States']\n",
      "Length: 12, dtype: string\n"
     ]
    }
   ],
   "source": [
    "\n",
    "countries = df['Country'].unique()\n",
    "print(\"Countries that bought USB Cable:\", countries)"
   ]
  },
  {
   "cell_type": "markdown",
   "metadata": {},
   "source": [
    "2.How much people used Bank transfer as payment method?"
   ]
  },
  {
   "cell_type": "code",
   "execution_count": 18,
   "metadata": {},
   "outputs": [
    {
     "name": "stdout",
     "output_type": "stream",
     "text": [
      "PaymentMethod\n",
      "Bank Transfer    15086\n",
      "dtype: int64\n"
     ]
    }
   ],
   "source": [
    "print(df.groupby('PaymentMethod').size().head(1))"
   ]
  },
  {
   "cell_type": "markdown",
   "metadata": {},
   "source": [
    "3.Which country got more discount?"
   ]
  },
  {
   "cell_type": "code",
   "execution_count": 19,
   "metadata": {},
   "outputs": [
    {
     "name": "stdout",
     "output_type": "stream",
     "text": [
      "Country\n",
      "Netherlands    959.48\n",
      "Name: Discount, dtype: float64\n"
     ]
    },
    {
     "data": {
      "image/png": "[encoded data removed]",
      "text/plain": [
       "<Figure size 640x480 with 1 Axes>"
      ]
     },
     "metadata": {},
     "output_type": "display_data"
    }
   ],
   "source": [
    "print(df.groupby('Country')['Discount'].sum().sort_values(ascending=False).head(1))\n",
    "sns.barplot(x=\"Country\",y=\"Discount\",data=df)\n",
    "plt.title(\"Distribution of discount\")\n",
    "plt.xlabel(\"Country\")\n",
    "plt.ylabel(\"Discount\")\n",
    "plt.xticks(rotation=45)\n",
    "plt.show()"
   ]
  },
  {
   "cell_type": "markdown",
   "metadata": {},
   "source": [
    "4.Which country had more sales on electronics?"
   ]
  },
  {
   "cell_type": "code",
   "execution_count": null,
   "metadata": {},
   "outputs": [
    {
     "name": "stdout",
     "output_type": "stream",
     "text": [
      "The country with the most orders for electronics is France with 803 orders.\n"
     ]
    }
   ],
   "source": [
    "electronic_orders=df[df['Category']=='Electronics']\n",
    "country_order_count=electronic_orders.groupby('Country').size()\n",
    "# Sort the counts in descending order\n",
    "sorted_country_order_counts = country_order_count.sort_values(ascending=False)\n",
    "#Get the country with the most orders\n",
    "top_country = sorted_country_order_counts.idxmax()\n",
    "top_country_count = sorted_country_order_counts.max()\n",
    "print(f\"The country with the most orders for electronics is {top_country} with {top_country_count} orders.\")"
   ]
  },
  {
   "cell_type": "markdown",
   "metadata": {},
   "source": [
    "5.How many people did sales through online?"
   ]
  },
  {
   "cell_type": "code",
   "execution_count": null,
   "metadata": {},
   "outputs": [
    {
     "name": "stdout",
     "output_type": "stream",
     "text": [
      "people who did online sales:\n",
      "22520\n"
     ]
    }
   ],
   "source": [
    "a=df.groupby('SalesChannel').size()\n",
    "print(\"people who did online sales:\")\n",
    "size_of_a=a['Online']\n",
    "print(size_of_a)"
   ]
  },
  {
   "cell_type": "markdown",
   "metadata": {},
   "source": [
    "6.which is the most used payment method?"
   ]
  },
  {
   "cell_type": "code",
   "execution_count": null,
   "metadata": {},
   "outputs": [
    {
     "name": "stdout",
     "output_type": "stream",
     "text": [
      "PaymentMethod\n",
      "Bank Transfer    15086\n",
      "dtype: int64\n"
     ]
    }
   ],
   "source": [
    "print(df.groupby('PaymentMethod').size().head(1))"
   ]
  },
  {
   "cell_type": "markdown",
   "metadata": {},
   "source": [
    "7.What is the annual shipping cost per year?"
   ]
  },
  {
   "cell_type": "code",
   "execution_count": null,
   "metadata": {},
   "outputs": [
    {
     "name": "stdout",
     "output_type": "stream",
     "text": [
      "Year\n",
      "2020    138786.91\n",
      "2021    138746.91\n",
      "2022    137588.05\n",
      "2023    136729.91\n",
      "2024    138498.23\n",
      "2025     93012.37\n",
      "Name: ShippingCost, dtype: float64\n"
     ]
    },
    {
     "data": {
      "image/png": "[encoded data removed]",
      "text/plain": [
       "<Figure size 640x480 with 1 Axes>"
      ]
     },
     "metadata": {},
     "output_type": "display_data"
    }
   ],
   "source": [
    "df['Year']=df['InvoiceDate'].dt.year\n",
    "print(df.groupby('Year')['ShippingCost'].sum())\n",
    "s1=df.groupby('Year')['ShippingCost'].sum()\n",
    "s1.plot(kind='bar',title='annual shipping cost distribution')\n",
    "plt.xlabel('year')\n",
    "plt.ylabel('shipping cost')\n",
    "plt.show()"
   ]
  },
  {
   "cell_type": "markdown",
   "metadata": {},
   "source": [
    "8.which is the least bought product?"
   ]
  },
  {
   "cell_type": "code",
   "execution_count": null,
   "metadata": {},
   "outputs": [
    {
     "name": "stdout",
     "output_type": "stream",
     "text": [
      "Description\n",
      "Wireless Mouse    3975\n",
      "Notebook          4015\n",
      "Blue Pen          4036\n",
      "T-shirt           4050\n",
      "Headphones        4058\n",
      "Office Chair      4065\n",
      "White Mug         4091\n",
      "Desk Lamp         4103\n",
      "Backpack          4122\n",
      "USB Cable         4130\n",
      "Wall Clock        4159\n",
      "Name: Quantity, dtype: int64\n"
     ]
    }
   ],
   "source": [
    "group_by=df.groupby('Description')['Quantity'].size()\n",
    "print(group_by.sort_values())"
   ]
  },
  {
   "cell_type": "markdown",
   "metadata": {},
   "source": [
    "9.Which product had more sales?"
   ]
  },
  {
   "cell_type": "code",
   "execution_count": null,
   "metadata": {},
   "outputs": [
    {
     "name": "stdout",
     "output_type": "stream",
     "text": [
      "Description\n",
      "Wall Clock        4159\n",
      "USB Cable         4130\n",
      "Backpack          4122\n",
      "Desk Lamp         4103\n",
      "White Mug         4091\n",
      "Office Chair      4065\n",
      "Headphones        4058\n",
      "T-shirt           4050\n",
      "Blue Pen          4036\n",
      "Notebook          4015\n",
      "Wireless Mouse    3975\n",
      "Name: Quantity, dtype: int64\n"
     ]
    }
   ],
   "source": [
    "group_by=df.groupby('Description')['Quantity'].size()\n",
    "print(group_by.sort_values(ascending=False))"
   ]
  },
  {
   "cell_type": "markdown",
   "metadata": {},
   "source": [
    "10.Which country bought more electronic items?"
   ]
  },
  {
   "cell_type": "code",
   "execution_count": null,
   "metadata": {},
   "outputs": [
    {
     "name": "stdout",
     "output_type": "stream",
     "text": [
      "Country\n",
      "Australia         17545\n",
      "Belgium           18949\n",
      "France            19360\n",
      "Germany           17974\n",
      "Italy             18098\n",
      "Netherlands       17764\n",
      "Norway            18474\n",
      "Portugal          19127\n",
      "Spain             18400\n",
      "Sweden            17560\n",
      "United Kingdom    18581\n",
      "United States     19464\n",
      "Name: Quantity, dtype: int64\n",
      "The country that bought the most electronic products is United States with 19464 items.\n"
     ]
    }
   ],
   "source": [
    "electronics_data = df[df[\"Category\"] == \"Electronics\"]\n",
    "country_counts = electronics_data.groupby(\"Country\")[\"Quantity\"].sum()\n",
    "print(country_counts)\n",
    "top_country = country_counts.idxmax()\n",
    "top_quantity = country_counts.max()\n",
    "print(f\"The country that bought the most electronic products is {top_country} with {top_quantity} items.\")\n"
   ]
  },
  {
   "cell_type": "markdown",
   "metadata": {},
   "source": [
    "11.Which products are more frequently returned?"
   ]
  },
  {
   "cell_type": "code",
   "execution_count": null,
   "metadata": {},
   "outputs": [
    {
     "name": "stdout",
     "output_type": "stream",
     "text": [
      "Products that are more frequently returned:\n",
      "Description\n",
      "Notebook          421\n",
      "Wall Clock        419\n",
      "USB Cable         417\n",
      "Blue Pen          404\n",
      "T-shirt           403\n",
      "Backpack          400\n",
      "Desk Lamp         392\n",
      "Wireless Mouse    388\n",
      "White Mug         385\n",
      "Headphones        381\n",
      "Office Chair      377\n",
      "Name: count, dtype: Int64\n"
     ]
    }
   ],
   "source": [
    "# filter product\n",
    "returned_products=df[df['ReturnStatus']=='Returned']\n",
    "# Count the frequency of returned products\n",
    "returned_frequency = returned_products['Description'].value_counts()\n",
    "print(\"Products that are more frequently returned:\")\n",
    "print(returned_frequency)"
   ]
  },
  {
   "cell_type": "markdown",
   "metadata": {},
   "source": [
    "12.How many orders were shipped using FedEx?"
   ]
  },
  {
   "cell_type": "code",
   "execution_count": null,
   "metadata": {},
   "outputs": [
    {
     "name": "stdout",
     "output_type": "stream",
     "text": [
      "ShipmentProvider\n",
      "FedEx    11296\n",
      "Name: count, dtype: Int64\n"
     ]
    }
   ],
   "source": [
    "print(df['ShipmentProvider'].value_counts().head(1))"
   ]
  },
  {
   "cell_type": "markdown",
   "metadata": {},
   "source": [
    "13.Which country placed the most orders?"
   ]
  },
  {
   "cell_type": "code",
   "execution_count": null,
   "metadata": {},
   "outputs": [
    {
     "name": "stdout",
     "output_type": "stream",
     "text": [
      "The country with the most orders is France with 3820 orders.\n"
     ]
    }
   ],
   "source": [
    "a=df.groupby('Country').size()\n",
    "# Sort the counts in descending order\n",
    "sorted_country_order_counts =a.sort_values(ascending=False)\n",
    "\n",
    "# Get the country with the most orders\n",
    "top_country = sorted_country_order_counts.idxmax()\n",
    "top_country_count = sorted_country_order_counts.max()\n",
    "\n",
    "print(f\"The country with the most orders is {top_country} with {top_country_count} orders.\")"
   ]
  },
  {
   "cell_type": "markdown",
   "metadata": {},
   "source": [
    "14.What is the average shipping cost?"
   ]
  },
  {
   "cell_type": "code",
   "execution_count": null,
   "metadata": {},
   "outputs": [
    {
     "name": "stdout",
     "output_type": "stream",
     "text": [
      "avaerage shipping cost is: 17.484206320864207\n"
     ]
    }
   ],
   "source": [
    "average=df['ShippingCost'].mean()\n",
    "print(\"avaerage shipping cost is:\",average)"
   ]
  },
  {
   "cell_type": "markdown",
   "metadata": {},
   "source": [
    "15.What percentage of customers have invalid CustomerIDs?"
   ]
  },
  {
   "cell_type": "code",
   "execution_count": null,
   "metadata": {},
   "outputs": [
    {
     "name": "stdout",
     "output_type": "stream",
     "text": [
      "invalid ids:\n",
      "0\n",
      "44804\n",
      "percentage of invalid ids: 0.0\n"
     ]
    }
   ],
   "source": [
    "print(\"invalid ids:\")\n",
    "null_count=df['CustomerID'].isnull().sum()\n",
    "print(null_count)\n",
    "total_rows=len(df)\n",
    "print(total_rows)\n",
    "percentage=(null_count/total_rows)*100\n",
    "print(\"percentage of invalid ids:\",percentage)\n"
   ]
  },
  {
   "cell_type": "markdown",
   "metadata": {},
   "source": [
    "16.Which year had more shipping cost"
   ]
  },
  {
   "cell_type": "code",
   "execution_count": null,
   "metadata": {},
   "outputs": [
    {
     "name": "stdout",
     "output_type": "stream",
     "text": [
      "Year\n",
      "2020    138786.91\n",
      "Name: ShippingCost, dtype: float64\n"
     ]
    }
   ],
   "source": [
    "df['Year']=df['InvoiceDate'].dt.year\n",
    "print(df.groupby('Year')['ShippingCost'].sum().sort_values(ascending=False).head(1))"
   ]
  },
  {
   "cell_type": "markdown",
   "metadata": {},
   "source": [
    "## SUMMERY"
   ]
  },
  {
   "cell_type": "markdown",
   "metadata": {},
   "source": [
    "* The dataset consists of 18 columns and 49,782 rows, representing sales transactions.The primary objective of the analysis is to uncover insights into sales trends, customer behavior, and operational efficiency.\n",
    "* Netherlands is the country which got more discount on sales\n",
    "* Most used Payment method by customers is Bank Transfer.\n",
    "* Bank transfer is used by 16417 people.\n",
    "* France is the country which placed more orders on electronics with 885 orders.\n",
    "* 25051 People did Online sales.\n",
    "* In 2020 Shipping cost was high compared to other years.\n",
    "* Average shipping cost is 17.49.\n",
    "* France placed more orders.\n",
    "* 12501 people used FedEx as shipment provider.\n",
    "* The products which are mostly returned are :- wall clock,notebook,usb cable,blue pen,etc\n",
    "* Wall clock is most bought product by customers.\n",
    "* Wireless mouse is least bought product among customers.\n"
   ]
  }
 ],
 "metadata": {
  "kernelspec": {
   "display_name": "Python 3",
   "language": "python",
   "name": "python3"
  },
  "language_info": {
   "codemirror_mode": {
    "name": "ipython",
    "version": 3
   },
   "file_extension": ".py",
   "mimetype": "text/x-python",
   "name": "python",
   "nbconvert_exporter": "python",
   "pygments_lexer": "ipython3",
   "version": "3.10.11"
  }
 },
 "nbformat": 4,
 "nbformat_minor": 2
}
