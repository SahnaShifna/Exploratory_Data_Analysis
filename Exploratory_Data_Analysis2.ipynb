{
 "cells": [
  {
   "cell_type": "markdown",
   "metadata": {},
   "source": [
    "## Description"
   ]
  },
  {
   "cell_type": "markdown",
   "metadata": {},
   "source": [
    "This dataset simulates transactions from a digital wallet platform similar to popular services like PayTm in India or Khalti in Nepal. It contains 5000 synthetic records of various financial transactions across multiple categories, providing a rich source for analysis of digital payment behaviors and trends.It analyses spending patterns across different product categories\n",
    "and the effectiveness of cashback and loyalty programs."
   ]
  },
  {
   "cell_type": "markdown",
   "metadata": {},
   "source": [
    "importing all libraries."
   ]
  },
  {
   "cell_type": "code",
   "execution_count": 2,
   "metadata": {},
   "outputs": [],
   "source": [
    "import pandas as pd\n",
    "import numpy as np\n",
    "import matplotlib.pyplot as plt\n",
    "import seaborn as sns"
   ]
  },
  {
   "cell_type": "markdown",
   "metadata": {},
   "source": [
    "Load data and get the information about data.\n",
    "Functions used :-\n",
    "read_csv()\n",
    "info() "
   ]
  },
  {
   "cell_type": "code",
   "execution_count": 3,
   "metadata": {},
   "outputs": [
    {
     "name": "stdout",
     "output_type": "stream",
     "text": [
      "<class 'pandas.core.frame.DataFrame'>\n",
      "RangeIndex: 5000 entries, 0 to 4999\n",
      "Data columns (total 16 columns):\n",
      " #   Column              Non-Null Count  Dtype  \n",
      "---  ------              --------------  -----  \n",
      " 0   idx                 5000 non-null   int64  \n",
      " 1   transaction_id      5000 non-null   object \n",
      " 2   user_id             5000 non-null   object \n",
      " 3   transaction_date    5000 non-null   object \n",
      " 4   product_category    5000 non-null   object \n",
      " 5   product_name        5000 non-null   object \n",
      " 6   merchant_name       5000 non-null   object \n",
      " 7   product_amount      5000 non-null   float64\n",
      " 8   transaction_fee     5000 non-null   float64\n",
      " 9   cashback            5000 non-null   float64\n",
      " 10  loyalty_points      5000 non-null   int64  \n",
      " 11  payment_method      5000 non-null   object \n",
      " 12  transaction_status  5000 non-null   object \n",
      " 13  merchant_id         5000 non-null   object \n",
      " 14  device_type         5000 non-null   object \n",
      " 15  location            5000 non-null   object \n",
      "dtypes: float64(3), int64(2), object(11)\n",
      "memory usage: 625.1+ KB\n",
      "None\n"
     ]
    }
   ],
   "source": [
    "df=pd.read_csv(\"c:\\\\Data Science\\\\Project\\\\digital_wallet_transactions.csv\")\n",
    "print(df.info())"
   ]
  },
  {
   "cell_type": "markdown",
   "metadata": {},
   "source": [
    "## Data cleaning"
   ]
  },
  {
   "cell_type": "markdown",
   "metadata": {},
   "source": [
    "Checking empty cells or null values.\n",
    "Functions used :-\n",
    "isna()"
   ]
  },
  {
   "cell_type": "code",
   "execution_count": 4,
   "metadata": {},
   "outputs": [
    {
     "name": "stdout",
     "output_type": "stream",
     "text": [
      "idx                   0\n",
      "transaction_id        0\n",
      "user_id               0\n",
      "transaction_date      0\n",
      "product_category      0\n",
      "product_name          0\n",
      "merchant_name         0\n",
      "product_amount        0\n",
      "transaction_fee       0\n",
      "cashback              0\n",
      "loyalty_points        0\n",
      "payment_method        0\n",
      "transaction_status    0\n",
      "merchant_id           0\n",
      "device_type           0\n",
      "location              0\n",
      "dtype: int64\n",
      "0\n"
     ]
    }
   ],
   "source": [
    "print(df.isna().sum())\n",
    "print(df.isna().sum().sum())"
   ]
  },
  {
   "cell_type": "markdown",
   "metadata": {},
   "source": [
    "Checking data contains any duplicate values.\n",
    "Function used :-\n",
    "duplicated()"
   ]
  },
  {
   "cell_type": "code",
   "execution_count": 5,
   "metadata": {},
   "outputs": [
    {
     "name": "stdout",
     "output_type": "stream",
     "text": [
      "0       False\n",
      "1       False\n",
      "2       False\n",
      "3       False\n",
      "4       False\n",
      "        ...  \n",
      "4995    False\n",
      "4996    False\n",
      "4997    False\n",
      "4998    False\n",
      "4999    False\n",
      "Length: 5000, dtype: bool\n",
      "None\n"
     ]
    }
   ],
   "source": [
    "print(df.duplicated())\n",
    "print(df.drop_duplicates(inplace=True))"
   ]
  },
  {
   "cell_type": "markdown",
   "metadata": {},
   "source": [
    "Drop unwanted columns."
   ]
  },
  {
   "cell_type": "code",
   "execution_count": 6,
   "metadata": {},
   "outputs": [
    {
     "name": "stdout",
     "output_type": "stream",
     "text": [
      "   idx     user_id  transaction_date product_category  \\\n",
      "0    1  USER_05159  2023-08-19 03:32     Rent Payment   \n",
      "1    2  USER_07204  2023-08-19 04:37         Gas Bill   \n",
      "2    3  USER_00903  2023-08-19 05:52       Bus Ticket   \n",
      "3    4  USER_01769  2023-08-19 06:35    Internet Bill   \n",
      "4    5  USER_03544  2023-08-19 06:36   Loan Repayment   \n",
      "\n",
      "                product_name     merchant_name  product_amount  \\\n",
      "0          2BHK Flat Deposit            Airbnb         1525.39   \n",
      "1  Commercial Gas Connection         Adani Gas         1495.40   \n",
      "2               Semi-Sleeper    MakeMyTrip Bus         1267.71   \n",
      "3          4G Unlimited Plan  Airtel Broadband         9202.63   \n",
      "4              Home Loan EMI         Axis Bank         3100.58   \n",
      "\n",
      "   transaction_fee  cashback  loyalty_points payment_method  \\\n",
      "0            36.69     19.19             186     Debit Card   \n",
      "1            28.19     89.99             182            UPI   \n",
      "2            11.36     95.70             994            UPI   \n",
      "3             6.41     82.24             409     Debit Card   \n",
      "4            41.15     40.47             837     Debit Card   \n",
      "\n",
      "  transaction_status merchant_id device_type location  \n",
      "0         Successful  MERCH_0083         iOS    Urban  \n",
      "1         Successful  MERCH_0163         iOS    Urban  \n",
      "2         Successful  MERCH_0320         iOS    Urban  \n",
      "3         Successful  MERCH_0194     Android    Urban  \n",
      "4         Successful  MERCH_0504     Android    Urban  \n",
      "   idx     user_id  transaction_date product_category  \\\n",
      "0    1  USER_05159  2023-08-19 03:32     Rent Payment   \n",
      "1    2  USER_07204  2023-08-19 04:37         Gas Bill   \n",
      "2    3  USER_00903  2023-08-19 05:52       Bus Ticket   \n",
      "3    4  USER_01769  2023-08-19 06:35    Internet Bill   \n",
      "4    5  USER_03544  2023-08-19 06:36   Loan Repayment   \n",
      "\n",
      "                product_name     merchant_name  product_amount  \\\n",
      "0          2BHK Flat Deposit            Airbnb         1525.39   \n",
      "1  Commercial Gas Connection         Adani Gas         1495.40   \n",
      "2               Semi-Sleeper    MakeMyTrip Bus         1267.71   \n",
      "3          4G Unlimited Plan  Airtel Broadband         9202.63   \n",
      "4              Home Loan EMI         Axis Bank         3100.58   \n",
      "\n",
      "   transaction_fee  cashback  loyalty_points payment_method  \\\n",
      "0            36.69     19.19             186     Debit Card   \n",
      "1            28.19     89.99             182            UPI   \n",
      "2            11.36     95.70             994            UPI   \n",
      "3             6.41     82.24             409     Debit Card   \n",
      "4            41.15     40.47             837     Debit Card   \n",
      "\n",
      "  transaction_status device_type location  \n",
      "0         Successful         iOS    Urban  \n",
      "1         Successful         iOS    Urban  \n",
      "2         Successful         iOS    Urban  \n",
      "3         Successful     Android    Urban  \n",
      "4         Successful     Android    Urban  \n"
     ]
    }
   ],
   "source": [
    "del df['transaction_id']\n",
    "print(df.head())\n",
    "del df['merchant_id']\n",
    "print(df.head())"
   ]
  },
  {
   "cell_type": "markdown",
   "metadata": {},
   "source": [
    "Change datatype of columns."
   ]
  },
  {
   "cell_type": "code",
   "execution_count": 7,
   "metadata": {},
   "outputs": [
    {
     "name": "stdout",
     "output_type": "stream",
     "text": [
      "<class 'pandas.core.frame.DataFrame'>\n",
      "RangeIndex: 5000 entries, 0 to 4999\n",
      "Data columns (total 14 columns):\n",
      " #   Column              Non-Null Count  Dtype        \n",
      "---  ------              --------------  -----        \n",
      " 0   idx                 5000 non-null   int64        \n",
      " 1   user_id             5000 non-null   object       \n",
      " 2   transaction_date    5000 non-null   datetime64[s]\n",
      " 3   product_category    5000 non-null   string       \n",
      " 4   product_name        5000 non-null   object       \n",
      " 5   merchant_name       5000 non-null   string       \n",
      " 6   product_amount      5000 non-null   float64      \n",
      " 7   transaction_fee     5000 non-null   float64      \n",
      " 8   cashback            5000 non-null   float64      \n",
      " 9   loyalty_points      5000 non-null   int64        \n",
      " 10  payment_method      5000 non-null   string       \n",
      " 11  transaction_status  5000 non-null   string       \n",
      " 12  device_type         5000 non-null   string       \n",
      " 13  location            5000 non-null   string       \n",
      "dtypes: datetime64[s](1), float64(3), int64(2), object(2), string(6)\n",
      "memory usage: 547.0+ KB\n",
      "None\n"
     ]
    }
   ],
   "source": [
    "df['transaction_date']=df['transaction_date'].astype('datetime64[s]')\n",
    "df['product_category']=df['product_category'].astype('string')\n",
    "df['merchant_name']=df['merchant_name'].astype('string')\n",
    "df['payment_method']=df['payment_method'].astype('string')\n",
    "df['transaction_status']=df['transaction_status'].astype('string')\n",
    "df['location']=df['location'].astype('string')\n",
    "df['device_type']=df['device_type'].astype('string')\n",
    "print(df.info())"
   ]
  },
  {
   "cell_type": "markdown",
   "metadata": {},
   "source": [
    "## Statistical Analysis"
   ]
  },
  {
   "cell_type": "markdown",
   "metadata": {},
   "source": [
    "Finding relationships using corr() function."
   ]
  },
  {
   "cell_type": "code",
   "execution_count": 8,
   "metadata": {},
   "outputs": [
    {
     "name": "stdout",
     "output_type": "stream",
     "text": [
      "                      idx  product_amount  transaction_fee  cashback  \\\n",
      "idx              1.000000        0.023803        -0.009800  0.012048   \n",
      "product_amount   0.023803        1.000000         0.001717  0.005515   \n",
      "transaction_fee -0.009800        0.001717         1.000000 -0.002113   \n",
      "cashback         0.012048        0.005515        -0.002113  1.000000   \n",
      "loyalty_points  -0.006675       -0.001306         0.003036  0.015662   \n",
      "\n",
      "                 loyalty_points  \n",
      "idx                   -0.006675  \n",
      "product_amount        -0.001306  \n",
      "transaction_fee        0.003036  \n",
      "cashback               0.015662  \n",
      "loyalty_points         1.000000  \n"
     ]
    }
   ],
   "source": [
    "print(df.corr(numeric_only=True))"
   ]
  },
  {
   "cell_type": "markdown",
   "metadata": {},
   "source": [
    "Find covarience using cov() function."
   ]
  },
  {
   "cell_type": "code",
   "execution_count": 9,
   "metadata": {},
   "outputs": [
    {
     "name": "stdout",
     "output_type": "stream",
     "text": [
      "                          idx  product_amount  transaction_fee    cashback  \\\n",
      "idx              2.083750e+06    9.913197e+04      -205.628843  496.069571   \n",
      "product_amount   9.913197e+04    8.323422e+06        72.003691  453.830484   \n",
      "transaction_fee -2.056288e+02    7.200369e+01       211.274887   -0.875936   \n",
      "cashback         4.960696e+02    4.538305e+02        -0.875936  813.531123   \n",
      "loyalty_points  -2.784129e+03   -1.088693e+03        12.750952  129.081203   \n",
      "\n",
      "                 loyalty_points  \n",
      "idx                -2784.128826  \n",
      "product_amount     -1088.692634  \n",
      "transaction_fee       12.750952  \n",
      "cashback             129.081203  \n",
      "loyalty_points     83499.288326  \n"
     ]
    }
   ],
   "source": [
    "print(df.cov(numeric_only=True))"
   ]
  },
  {
   "cell_type": "markdown",
   "metadata": {},
   "source": [
    "Retreiving statistical summery of data."
   ]
  },
  {
   "cell_type": "code",
   "execution_count": 10,
   "metadata": {},
   "outputs": [
    {
     "name": "stdout",
     "output_type": "stream",
     "text": [
      "               idx     transaction_date  product_amount  transaction_fee  \\\n",
      "count  5000.000000                 5000     5000.000000      5000.000000   \n",
      "mean   2500.500000  2024-02-19 09:33:10     4957.502722        25.188874   \n",
      "min       1.000000  2023-08-19 03:32:00       10.090000         0.010000   \n",
      "25%    1250.750000  2023-11-19 14:07:45     2453.977500        12.665000   \n",
      "50%    2500.500000  2024-02-20 08:42:30     4943.685000        25.070000   \n",
      "75%    3750.250000  2024-05-22 07:14:15     7444.815000        37.947500   \n",
      "max    5000.000000  2024-08-18 01:15:00     9996.950000        49.990000   \n",
      "std    1443.520003                  NaN     2885.034160        14.535298   \n",
      "\n",
      "          cashback  loyalty_points  \n",
      "count  5000.000000     5000.000000  \n",
      "mean     50.658782      498.790400  \n",
      "min       0.000000        0.000000  \n",
      "25%      26.495000      246.000000  \n",
      "50%      51.390000      504.000000  \n",
      "75%      75.067500      749.000000  \n",
      "max     100.000000      999.000000  \n",
      "std      28.522467      288.962434  \n"
     ]
    }
   ],
   "source": [
    "print(df.describe())"
   ]
  },
  {
   "cell_type": "markdown",
   "metadata": {},
   "source": [
    "## Exploratory Data Analysis"
   ]
  },
  {
   "cell_type": "markdown",
   "metadata": {},
   "source": [
    "1.Which is the most used payment method?"
   ]
  },
  {
   "cell_type": "code",
   "execution_count": 11,
   "metadata": {},
   "outputs": [
    {
     "name": "stdout",
     "output_type": "stream",
     "text": [
      "payment_method\n",
      "Bank Transfer    1045\n",
      "dtype: int64\n"
     ]
    }
   ],
   "source": [
    "print(df.groupby('payment_method').size().sort_values(ascending=False).head(1))"
   ]
  },
  {
   "cell_type": "markdown",
   "metadata": {},
   "source": [
    "2.Which method of payment costed high compared to other?"
   ]
  },
  {
   "cell_type": "code",
   "execution_count": 12,
   "metadata": {},
   "outputs": [
    {
     "name": "stdout",
     "output_type": "stream",
     "text": [
      "49.99\n",
      "highest fee: 49.99\n",
      "Wallet Balance\n"
     ]
    }
   ],
   "source": [
    "print(df['transaction_fee'].max())\n",
    "a=df['transaction_fee'].idxmax()\n",
    "b=df.loc[a, 'payment_method']\n",
    "print(\"highest fee:\",df.loc[a,'transaction_fee'])\n",
    "print(b)"
   ]
  },
  {
   "cell_type": "markdown",
   "metadata": {},
   "source": [
    "3.Which merchant got more cashback?"
   ]
  },
  {
   "cell_type": "code",
   "execution_count": 13,
   "metadata": {},
   "outputs": [
    {
     "name": "stdout",
     "output_type": "stream",
     "text": [
      "highest cashback: 100.0\n",
      "Mumbai Water\n"
     ]
    }
   ],
   "source": [
    "highest_cashback=df['cashback'].idxmax()\n",
    "b=df.loc[highest_cashback,'merchant_name']\n",
    "print(\"highest cashback:\",df.loc[highest_cashback,'cashback'])\n",
    "print(b)"
   ]
  },
  {
   "cell_type": "markdown",
   "metadata": {},
   "source": [
    "4.Who got more points on loyalty?"
   ]
  },
  {
   "cell_type": "code",
   "execution_count": 14,
   "metadata": {},
   "outputs": [
    {
     "name": "stdout",
     "output_type": "stream",
     "text": [
      "999\n",
      "highest loyalty point: 999\n",
      "Bangalore Water Supply\n"
     ]
    }
   ],
   "source": [
    "print(df['loyalty_points'].max())\n",
    "a=df['loyalty_points'].idxmax()\n",
    "b=df.loc[a,'merchant_name']\n",
    "print(\"highest loyalty point:\",df.loc[a,'loyalty_points'])\n",
    "print(b)"
   ]
  },
  {
   "cell_type": "markdown",
   "metadata": {},
   "source": [
    "5.How many transactions done in 2023?"
   ]
  },
  {
   "cell_type": "code",
   "execution_count": 15,
   "metadata": {},
   "outputs": [
    {
     "name": "stdout",
     "output_type": "stream",
     "text": [
      "Number of transactions in 2023: 1834\n"
     ]
    }
   ],
   "source": [
    "transactions_2023 = df[df['transaction_date'].dt.year == 2023]\n",
    "num_transactions_2023 = len(transactions_2023)\n",
    "print(\"Number of transactions in 2023:\", num_transactions_2023)"
   ]
  },
  {
   "cell_type": "markdown",
   "metadata": {},
   "source": [
    "6.How many transactions have failed?"
   ]
  },
  {
   "cell_type": "code",
   "execution_count": 16,
   "metadata": {},
   "outputs": [
    {
     "name": "stdout",
     "output_type": "stream",
     "text": [
      "no. of failed transactions: 146\n"
     ]
    }
   ],
   "source": [
    "failed=df[df['transaction_status']=='Failed']\n",
    "num_failed_transactions=len(failed)\n",
    "print(\"no. of failed transactions:\",num_failed_transactions)"
   ]
  },
  {
   "cell_type": "markdown",
   "metadata": {},
   "source": [
    "7.How many transactions were successful?"
   ]
  },
  {
   "cell_type": "code",
   "execution_count": 17,
   "metadata": {},
   "outputs": [
    {
     "name": "stdout",
     "output_type": "stream",
     "text": [
      "no. of successful transactions: 4755\n"
     ]
    }
   ],
   "source": [
    "successful=df[df['transaction_status']=='Successful']\n",
    "num_successful_transactions=len(successful)\n",
    "print(\"no. of successful transactions:\",num_successful_transactions)"
   ]
  },
  {
   "cell_type": "markdown",
   "metadata": {},
   "source": [
    "8.Which type of transaction is more successful?"
   ]
  },
  {
   "cell_type": "code",
   "execution_count": 18,
   "metadata": {},
   "outputs": [
    {
     "name": "stdout",
     "output_type": "stream",
     "text": [
      "Most successful transaction type: Bank Transfer\n"
     ]
    }
   ],
   "source": [
    "successful_transactions=df[df['transaction_status']=='Successful']\n",
    "success_counts = successful_transactions.groupby('payment_method').size()\n",
    "most_successful_type = success_counts.idxmax()\n",
    "print(\"Most successful transaction type:\", most_successful_type)"
   ]
  },
  {
   "cell_type": "markdown",
   "metadata": {},
   "source": [
    "9.Which is the most used device for transaction?"
   ]
  },
  {
   "cell_type": "code",
   "execution_count": 19,
   "metadata": {},
   "outputs": [
    {
     "name": "stdout",
     "output_type": "stream",
     "text": [
      "iOS\n"
     ]
    }
   ],
   "source": [
    "print(df['device_type'].max())"
   ]
  },
  {
   "cell_type": "markdown",
   "metadata": {},
   "source": [
    "10.Percentage of pending transactions?"
   ]
  },
  {
   "cell_type": "code",
   "execution_count": 20,
   "metadata": {},
   "outputs": [
    {
     "name": "stdout",
     "output_type": "stream",
     "text": [
      "transaction_status\n",
      "Successful    4755\n",
      "Failed         146\n",
      "Pending         99\n",
      "Name: count, dtype: Int64\n",
      "transaction_status\n",
      "Successful    95.1\n",
      "Failed        2.92\n",
      "Pending       1.98\n",
      "Name: count, dtype: Float64\n"
     ]
    },
    {
     "data": {
      "image/png": "[encoded data removed]",
      "text/plain": [
       "<Figure size 640x480 with 1 Axes>"
      ]
     },
     "metadata": {},
     "output_type": "display_data"
    }
   ],
   "source": [
    "count=df['transaction_status'].value_counts()\n",
    "print(count)\n",
    "percentage=(count/len(df))*100\n",
    "print(percentage)\n",
    "plt.bar(percentage.index, percentage, color='skyblue', edgecolor='black')\n",
    "plt.title('Percentage Distribution of Categories')\n",
    "plt.xlabel('Category')\n",
    "plt.ylabel('Percentage')\n",
    "plt.show()"
   ]
  },
  {
   "cell_type": "markdown",
   "metadata": {},
   "source": [
    "11.What is the average transaction fee across all transactions?"
   ]
  },
  {
   "cell_type": "code",
   "execution_count": 21,
   "metadata": {},
   "outputs": [
    {
     "name": "stdout",
     "output_type": "stream",
     "text": [
      "average transaction fee is: 25.188874\n"
     ]
    }
   ],
   "source": [
    "average=df['transaction_fee'].mean()\n",
    "print(\"average transaction fee is:\",average)"
   ]
  },
  {
   "cell_type": "markdown",
   "metadata": {},
   "source": [
    "12.What is the correlation between product amount and cashback?"
   ]
  },
  {
   "cell_type": "code",
   "execution_count": 22,
   "metadata": {},
   "outputs": [
    {
     "name": "stdout",
     "output_type": "stream",
     "text": [
      "correlation is: 0.005515128285459528\n"
     ]
    }
   ],
   "source": [
    "correlation=df['product_amount'].corr(df['cashback'])\n",
    "print(\"correlation is:\",correlation)"
   ]
  },
  {
   "cell_type": "markdown",
   "metadata": {},
   "source": [
    "13.How do transaction amounts compare between successful and failed transactions?"
   ]
  },
  {
   "cell_type": "code",
   "execution_count": 23,
   "metadata": {},
   "outputs": [
    {
     "name": "stdout",
     "output_type": "stream",
     "text": [
      "                           mean    median          std    min      max  count\n",
      "transaction_status                                                           \n",
      "Failed              5044.593767  5238.395  2992.291185  13.33  9993.54    146\n",
      "Pending             4969.535354  4770.050  2951.919373  75.86  9952.88     99\n",
      "Successful          4954.578111  4944.250  2880.868656  10.09  9996.95   4755\n"
     ]
    },
    {
     "data": {
      "image/png": "[encoded data removed]",
      "text/plain": [
       "<Figure size 640x480 with 1 Axes>"
      ]
     },
     "metadata": {},
     "output_type": "display_data"
    }
   ],
   "source": [
    "comparison = df.groupby('transaction_status')['product_amount'].agg(['mean', 'median', 'std', 'min', 'max', 'count'])\n",
    "print(comparison)\n",
    "sns.boxplot(data=df, x='transaction_status', y='product_amount')\n",
    "plt.title('Transaction Amounts by Status')\n",
    "plt.xlabel('Transaction Status')\n",
    "plt.ylabel('Product Amount')\n",
    "plt.show()"
   ]
  },
  {
   "cell_type": "markdown",
   "metadata": {},
   "source": [
    "14.How much people used debit card for transactions?"
   ]
  },
  {
   "cell_type": "code",
   "execution_count": 27,
   "metadata": {},
   "outputs": [
    {
     "name": "stdout",
     "output_type": "stream",
     "text": [
      "payment_method\n",
      "Bank Transfer     1045\n",
      "Debit Card        1022\n",
      "UPI                999\n",
      "Credit Card        992\n",
      "Wallet Balance     942\n",
      "Name: count, dtype: Int64\n",
      "0\n"
     ]
    }
   ],
   "source": [
    "value_counts = df['payment_method'].value_counts()\n",
    "print(value_counts)\n",
    "debit_card_count = (df['payment_method'] == 'debit card').sum()\n",
    "print(debit_card_count)"
   ]
  },
  {
   "cell_type": "markdown",
   "metadata": {},
   "source": [
    "15.Which is the most bought product category?"
   ]
  },
  {
   "cell_type": "code",
   "execution_count": null,
   "metadata": {},
   "outputs": [
    {
     "name": "stdout",
     "output_type": "stream",
     "text": [
      "Water Bill\n"
     ]
    }
   ],
   "source": [
    "print(df['product_category'].max())"
   ]
  },
  {
   "cell_type": "markdown",
   "metadata": {},
   "source": [
    "16.Who made less transactions?"
   ]
  },
  {
   "cell_type": "code",
   "execution_count": null,
   "metadata": {},
   "outputs": [
    {
     "name": "stdout",
     "output_type": "stream",
     "text": [
      "ACT Fibernet\n"
     ]
    }
   ],
   "source": [
    "print(df['merchant_name'].min())"
   ]
  },
  {
   "cell_type": "markdown",
   "metadata": {},
   "source": [
    "17.Are there any locations with significantly fewer transactions?"
   ]
  },
  {
   "cell_type": "code",
   "execution_count": null,
   "metadata": {},
   "outputs": [
    {
     "name": "stdout",
     "output_type": "stream",
     "text": [
      "location with fewer transactions is: location\n",
      "Rural    498\n",
      "Name: count, dtype: Int64\n",
      "location\n",
      "Urban       3485\n",
      "Suburban    1017\n",
      "Rural        498\n",
      "Name: count, dtype: Int64\n"
     ]
    },
    {
     "data": {
      "image/png": "[encoded data removed]",
      "text/plain": [
       "<Figure size 800x800 with 1 Axes>"
      ]
     },
     "metadata": {},
     "output_type": "display_data"
    }
   ],
   "source": [
    "location_distribution = df['location'].value_counts().sort_values().head(1)\n",
    "print(\"location with fewer transactions is:\",location_distribution)\n",
    "location_distribution = df['location'].value_counts()\n",
    "print(location_distribution)\n",
    "plt.figure(figsize=(8, 8))\n",
    "location_distribution.plot(kind='pie', autopct='%1.1f%%', colors=sns.color_palette('Set3', len(location_distribution)))\n",
    "plt.title('Transaction Distribution by Location')\n",
    "plt.ylabel('')\n",
    "plt.show()"
   ]
  },
  {
   "cell_type": "markdown",
   "metadata": {},
   "source": [
    "18.Which location has the most transactions?"
   ]
  },
  {
   "cell_type": "code",
   "execution_count": null,
   "metadata": {},
   "outputs": [
    {
     "name": "stdout",
     "output_type": "stream",
     "text": [
      "location with more transactions:\n",
      "location\n",
      "Urban    3485\n",
      "dtype: int64\n"
     ]
    },
    {
     "name": "stderr",
     "output_type": "stream",
     "text": [
      "C:\\Users\\HP\\AppData\\Local\\Temp\\ipykernel_8676\\875913895.py:5: FutureWarning: \n",
      "\n",
      "Passing `palette` without assigning `hue` is deprecated and will be removed in v0.14.0. Assign the `x` variable to `hue` and set `legend=False` for the same effect.\n",
      "\n",
      "  sns.barplot(x=top_locations.index, y=top_locations.values, palette='viridis')\n"
     ]
    },
    {
     "data": {
      "image/png": "[encoded data removed]",
      "text/plain": [
       "<Figure size 1000x600 with 1 Axes>"
      ]
     },
     "metadata": {},
     "output_type": "display_data"
    }
   ],
   "source": [
    "print(\"location with more transactions:\")\n",
    "print(df.groupby('location').size().sort_values(ascending=False).head(1))\n",
    "top_locations = location_distribution.head(10)\n",
    "plt.figure(figsize=(10, 6))\n",
    "sns.barplot(x=top_locations.index, y=top_locations.values, palette='viridis')\n",
    "plt.title('Top 10 Transaction Locations')\n",
    "plt.xlabel('Location')\n",
    "plt.ylabel('Number of Transactions')\n",
    "plt.xticks(rotation=90)\n",
    "plt.show()"
   ]
  },
  {
   "cell_type": "markdown",
   "metadata": {},
   "source": [
    "## Summery"
   ]
  },
  {
   "cell_type": "markdown",
   "metadata": {},
   "source": [
    "* Bank transfer is the most favourable payment method among customers.\n",
    "* Wallet balance is the kind of digital transaction which had more transaction fee compared to other payment methods.\n",
    "* The merchant who got more cashback is Mumbai Water.\n",
    "* Banglore water supply has more loyalty points.\n",
    "* No. of tranactions in 2023: 1834.\n",
    "* No. of failed transactions : 146.\n",
    "* 4755 Transactions were successful.\n",
    "* Bank transfer is the most successful type of payment method.\n",
    "* No.of people who used debit card for transactions :- 1022\n",
    "* People made more transactions under water bill catogory.\n",
    "* The merchant who made less transactions is \"ACT Fiber net\". \n",
    "* Transactions on rural areas are comparatively less.\n",
    "* More transactions are from urban area."
   ]
  }
 ],
 "metadata": {
  "kernelspec": {
   "display_name": "Python 3",
   "language": "python",
   "name": "python3"
  },
  "language_info": {
   "codemirror_mode": {
    "name": "ipython",
    "version": 3
   },
   "file_extension": ".py",
   "mimetype": "text/x-python",
   "name": "python",
   "nbconvert_exporter": "python",
   "pygments_lexer": "ipython3",
   "version": "3.10.11"
  }
 },
 "nbformat": 4,
 "nbformat_minor": 2
}
